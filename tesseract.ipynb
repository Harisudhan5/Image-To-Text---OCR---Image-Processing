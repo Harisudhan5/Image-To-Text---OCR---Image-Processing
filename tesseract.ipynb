{
 "cells": [
  {
   "cell_type": "code",
   "execution_count": 1,
   "metadata": {},
   "outputs": [],
   "source": [
    "import cv2\n",
    "import pytesseract"
   ]
  },
  {
   "cell_type": "code",
   "execution_count": 2,
   "metadata": {},
   "outputs": [],
   "source": [
    "img = cv2.imread(\"./Data/Data/Task1/1.jpg\")"
   ]
  },
  {
   "cell_type": "code",
   "execution_count": 3,
   "metadata": {},
   "outputs": [],
   "source": [
    "text = pytesseract.image_to_string(img)"
   ]
  },
  {
   "cell_type": "code",
   "execution_count": 4,
   "metadata": {},
   "outputs": [
    {
     "data": {
      "text/plain": [
       "'ying an dependent contented he gentleman agreeable do be. Warrant\\nemoved an in equally totally if. Del: Lor Sar\\nobjection do mr prevailed. Mr feeling do chiefly cordial in do. Hater timed folly\\nright aware if oh truth. Imprudence attachment him his for sympathize. Large above\\nbe to means. Dashwood do provided stronger is. But discretion frequently sir the\\nshe instrument unaffected admiration everything.\\n\\nHer extensive perceived may any sincerity,\\nsee. Old propriety delighted\\nDoubt meri\\nnorthward. Congisted we atheruise arrang ng commanded d\\nCho old even song like tao yet been. ‘Literature inter doannouncing for\\nterminated him inquietude day shy. Hi nm perhaps waiting if\\nhighest no it, Continued promotion has consulted fat improving not way.\\n\\ntramity. Indeed add rather may pretty\\ni obj lion gam ten her.\\nnition smallness he\\nry it explained.\\n\\nFar quitting dwelling grac\\nshow am shed sold cold. Unatte\\nterminated led. Result either d\\nferrars it ye besides resolve.\\npursuit at regular do parlo\\n\\nd remarkably lence\\n\\ngn san she 3 (in ashamed no inhabit\\nHn judgment yf i\\nRank what has into fond she.\\n\\n(4 friendship on inhabiting diminution discovered\\nbuilding few nor. Ghject he barton no effect play\\noppe we little seeing or branch.\\nfrequently you pos: ion tl\\nheld lain give yet.\\n\\nTid friendly eat breeding\\n\\ndo valley afford. Period so to\\nAnnouncing contrasted not imprudence add\\n\\nried gam his hou are and misery. Hour had\\n\\n'"
      ]
     },
     "execution_count": 4,
     "metadata": {},
     "output_type": "execute_result"
    }
   ],
   "source": [
    "text"
   ]
  },
  {
   "cell_type": "code",
   "execution_count": null,
   "metadata": {},
   "outputs": [],
   "source": []
  }
 ],
 "metadata": {
  "kernelspec": {
   "display_name": "master",
   "language": "python",
   "name": "python3"
  },
  "language_info": {
   "codemirror_mode": {
    "name": "ipython",
    "version": 3
   },
   "file_extension": ".py",
   "mimetype": "text/x-python",
   "name": "python",
   "nbconvert_exporter": "python",
   "pygments_lexer": "ipython3",
   "version": "3.10.13"
  }
 },
 "nbformat": 4,
 "nbformat_minor": 2
}
